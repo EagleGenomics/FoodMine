{
 "cells": [
  {
   "cell_type": "code",
   "execution_count": 2,
   "metadata": {},
   "outputs": [],
   "source": [
    "import pandas as pd\n",
    "import numpy as np\n",
    "import pickle\n",
    "import time"
   ]
  },
  {
   "cell_type": "code",
   "execution_count": 4,
   "metadata": {},
   "outputs": [],
   "source": [
    "import os\n",
    "os.chdir('..')"
   ]
  },
  {
   "cell_type": "code",
   "execution_count": 13,
   "metadata": {},
   "outputs": [],
   "source": [
    "from config import mfp\n",
    "from src.data_loader import load_ctd\n",
    "import src.tools.chemidr.id_map as id_map"
   ]
  },
  {
   "cell_type": "code",
   "execution_count": 118,
   "metadata": {},
   "outputs": [],
   "source": [
    "hdata = load_ctd()"
   ]
  },
  {
   "cell_type": "code",
   "execution_count": 138,
   "metadata": {},
   "outputs": [
    {
     "name": "stdout",
     "output_type": "stream",
     "text": [
      "11600 loops done in 0.0064910014470418295 min\n",
      "12000 loops done in 3.0944095174471538 min\n",
      "12400 loops done in 6.416819866498312 min\n",
      "12800 loops done in 9.554338236649832 min\n",
      "13200 loops done in 12.79873957236608 min\n",
      "13600 loops done in 15.923254267374675 min\n",
      "14000 loops done in 19.15265403588613 min\n",
      "14400 loops done in 22.403776121139526 min\n",
      "14800 loops done in 25.879218264420828 min\n",
      "15200 loops done in 29.407595113913217 min\n",
      "15600 loops done in 32.89271252155304 min\n"
     ]
    }
   ],
   "source": [
    "ctd_mesh = hdata.drop_duplicates('ChemicalID').copy().reset_index(drop=True)\n",
    "\n",
    "mesh_cid_map = []\n",
    "\n",
    "start = time.time()\n",
    "for mesh in ctd_mesh.ChemicalID.tolist():\n",
    "    mesh_cid_map.append(id_map.mesh2pid(mesh))\n",
    "\n",
    "    if not i % 400:\n",
    "        print(i, 'loops done in', (time.time() - start) / 60, 'min')\n",
    "    i+=1\n",
    "    \n",
    "    # uncomment to re-run, or load saved id's below\n",
    "#     pickle.dump( mesh_cid_map, open( \"misc_save/ctd_mesh_cid_map.pkl\", \"wb\" ) )"
   ]
  },
  {
   "cell_type": "code",
   "execution_count": 14,
   "metadata": {},
   "outputs": [],
   "source": [
    "with open(mfp(\"misc_save/ctd_mesh_cid_map.pkl\"), \"rb\") as f:\n",
    "    ids = pickle.load(f)\n",
    "\n",
    "ids_dict = {}\n",
    "for d in ids:\n",
    "    ids_dict.update(d)\n",
    "\n",
    "cids = [float(v['cid']) for _, v in ids_dict.items()]\n",
    "\n",
    "hchems = pd.DataFrame({'chem_id_p' : cids, 'ChemicalName' : [np.nan] * len(cids)})\n",
    "hchems['chem_id'] = np.nan\n",
    "hchems['chem_id'] = hchems['chem_id'].astype(object)\n",
    "hchems.at[hchems[hchems.chem_id_p.notnull()].index, 'chem_id'] = id_map.cids2inchis(hchems[hchems.chem_id_p.notnull()].chem_id_p.tolist(), use_prefix=True)"
   ]
  },
  {
   "cell_type": "code",
   "execution_count": 20,
   "metadata": {},
   "outputs": [],
   "source": [
    "def disambiguation_table(fm_q, fm_uq, fdb_d_q, fdb_d_uq, usda):\n",
    "    fm_ids = list(set( fm_q[fm_q['chem_id'].notnull()].chem_id.tolist() + fm_uq[fm_uq['chem_id'].notnull()].chem_id.tolist() ))\n",
    "    fdb_ids = list(set( fdb_d_q[fdb_d_q['chem_id'].notnull()].chem_id.tolist() + fdb_d_uq[fdb_d_uq['chem_id'].notnull()].chem_id.tolist() ))\n",
    "    usda_ids = list(set( usda[(usda['chem_id'].notnull()) & (usda.Nutr_Val > 0)].chem_id.tolist() ))\n",
    "\n",
    "    disp = pd.DataFrame({\n",
    "            '' : ['foodmine', 'foodb', 'usda'],\n",
    "            'quant' : [\n",
    "                len( fm_q[fm_q.average_mean > 0].merge(hchems, how='inner', on='chem_id').dropna(subset=['chem_id'], axis=0).drop_duplicates('chem_id') ),\n",
    "                len( fdb_d_q[fdb_d_q.standard_content > 0].merge(hchems, how='inner', on='chem_id').dropna(subset=['chem_id'], axis=0).drop_duplicates('chem_id') ),\n",
    "                len( usda[usda.Nutr_Val > 0].merge(hchems, how='inner', on='chem_id').dropna(subset=['chem_id'], axis=0).drop_duplicates('chem_id') )\n",
    "            ],\n",
    "            'unquant' : [\n",
    "                len( fm_uq.merge(hchems, how='inner', on='chem_id').dropna(subset=['chem_id'], axis=0).drop_duplicates('chem_id') ),\n",
    "                len( fdb_d_uq.merge(hchems, how='inner', on='chem_id').dropna(subset=['chem_id'], axis=0).drop_duplicates('chem_id') ),\n",
    "                0\n",
    "            ],\n",
    "            'absent' : [\n",
    "                len( hchems[~hchems.chem_id.isin(fm_ids)].dropna(subset=['chem_id'], axis=0).drop_duplicates('chem_id') )\n",
    "                + len( hchems[hchems.chem_id.isnull()].ChemicalName.drop_duplicates() ),\n",
    "                len( hchems[~hchems.chem_id.isin(fdb_ids)].dropna(subset=['chem_id'], axis=0).drop_duplicates('chem_id') )\n",
    "                + len( hchems[hchems.chem_id.isnull()].ChemicalName.drop_duplicates() ),\n",
    "                len( hchems[~hchems.chem_id.isin(usda_ids)].dropna(subset=['chem_id'], axis=0).drop_duplicates('chem_id') )\n",
    "                + len( hchems[hchems.chem_id.isnull()].ChemicalName.drop_duplicates() )\n",
    "            ]\n",
    "        })\n",
    "\n",
    "    disp['total'] = disp.sum(axis=1)\n",
    "    display(disp)"
   ]
  },
  {
   "cell_type": "markdown",
   "metadata": {},
   "source": [
    "### Load data related to garlic"
   ]
  },
  {
   "cell_type": "code",
   "execution_count": 21,
   "metadata": {},
   "outputs": [],
   "source": [
    "fdb_d = pd.read_pickle('misc_save/garlic_foodb_food_dump.pkl')\n",
    "fdb_d.rename(columns={'pubchem_id' : 'chem_id_p', 'foodb_id' : 'chem_id_f'}, inplace=True)\n",
    "\n",
    "# Creates a list of the unique chemicals in garlic from FooDB\n",
    "foodb_food_lower = list(set( fdb_d.chem_id.tolist() ))\n",
    "\n",
    "# Creates a separate dataframe that holds chemicals for garlic in foodb with a real quantification\n",
    "fdb_d_q = fdb_d[fdb_d.standard_content.notnull()][['chem_id', 'chem_id_p', 'chem_id_f', 'orig_source_id','name', 'standard_content']].drop_duplicates()\n",
    "\n",
    "# Creates a separate dataframe that holds chemicals for garlic in foodb without a real quantification\n",
    "fdb_d_uq = fdb_d[fdb_d.standard_content.isnull()][['chem_id', 'chem_id_p', 'chem_id_f', 'orig_source_id', 'name', 'standard_content']].reset_index()\n",
    "\n",
    "q_ids = list(set( fdb_d_q.chem_id.tolist() ))\n",
    "q_names = list(set( fdb_d_q.name.tolist() ))\n",
    "fdb_d_uq = fdb_d_uq[(~fdb_d_uq.chem_id.fillna('-').isin(q_ids)) & (~fdb_d_uq.name.fillna('-').isin(q_names))]\n",
    "\n",
    "\n",
    "# Load FoodMine data\n",
    "fm = pd.read_pickle('misc_save/garlic_fm.pkl')\n",
    "fm_q = pd.read_pickle('misc_save/garlic_fm_quant.pkl')\n",
    "fm_uq = pd.read_pickle('misc_save/garlic_fm_unquant.pkl')\n",
    "fm.rename(columns={'pubchem_id' : 'chem_id_p', 'foodb_id' : 'chem_id_f'}, inplace=True)\n",
    "fm_q.rename(columns={'pubchem_id' : 'chem_id_p', 'foodb_id' : 'chem_id_f'}, inplace=True)\n",
    "fm_uq.rename(columns={'pubchem_id' : 'chem_id_p', 'foodb_id' : 'chem_id_f'}, inplace=True)\n",
    "\n",
    "\n",
    "# Load USDA data\n",
    "usda = pd.read_pickle('misc_save/garlic_usda.pkl')\n",
    "usda.rename(columns={'pubchem_id' : 'chem_id_p', 'foodb_id' : 'chem_id_f'}, inplace=True)"
   ]
  },
  {
   "cell_type": "code",
   "execution_count": 22,
   "metadata": {},
   "outputs": [
    {
     "data": {
      "text/html": [
       "<div>\n",
       "<style scoped>\n",
       "    .dataframe tbody tr th:only-of-type {\n",
       "        vertical-align: middle;\n",
       "    }\n",
       "\n",
       "    .dataframe tbody tr th {\n",
       "        vertical-align: top;\n",
       "    }\n",
       "\n",
       "    .dataframe thead th {\n",
       "        text-align: right;\n",
       "    }\n",
       "</style>\n",
       "<table border=\"1\" class=\"dataframe\">\n",
       "  <thead>\n",
       "    <tr style=\"text-align: right;\">\n",
       "      <th></th>\n",
       "      <th></th>\n",
       "      <th>quant</th>\n",
       "      <th>unquant</th>\n",
       "      <th>absent</th>\n",
       "      <th>total</th>\n",
       "    </tr>\n",
       "  </thead>\n",
       "  <tbody>\n",
       "    <tr>\n",
       "      <th>0</th>\n",
       "      <td>foodmine</td>\n",
       "      <td>138</td>\n",
       "      <td>24</td>\n",
       "      <td>12086</td>\n",
       "      <td>12248</td>\n",
       "    </tr>\n",
       "    <tr>\n",
       "      <th>1</th>\n",
       "      <td>foodb</td>\n",
       "      <td>89</td>\n",
       "      <td>485</td>\n",
       "      <td>11674</td>\n",
       "      <td>12248</td>\n",
       "    </tr>\n",
       "    <tr>\n",
       "      <th>2</th>\n",
       "      <td>usda</td>\n",
       "      <td>37</td>\n",
       "      <td>0</td>\n",
       "      <td>12211</td>\n",
       "      <td>12248</td>\n",
       "    </tr>\n",
       "  </tbody>\n",
       "</table>\n",
       "</div>"
      ],
      "text/plain": [
       "             quant  unquant  absent  total\n",
       "0  foodmine    138       24   12086  12248\n",
       "1     foodb     89      485   11674  12248\n",
       "2      usda     37        0   12211  12248"
      ]
     },
     "metadata": {},
     "output_type": "display_data"
    }
   ],
   "source": [
    "disambiguation_table(fm_q, fm_uq, fdb_d_q, fdb_d_uq, usda)"
   ]
  },
  {
   "cell_type": "markdown",
   "metadata": {},
   "source": [
    "### Load data related to cocoa"
   ]
  },
  {
   "cell_type": "code",
   "execution_count": 21,
   "metadata": {},
   "outputs": [],
   "source": [
    "fdb_d = pd.read_pickle('misc_save/cocoa_foodb_food_dump.pkl')\n",
    "fdb_d.rename(columns={'pubchem_id' : 'chem_id_p', 'foodb_id' : 'chem_id_f'}, inplace=True)\n",
    "\n",
    "# Creates a list of the unique chemicals in cocoa from FooDB\n",
    "foodb_food_lower = list(set( fdb_d.chem_id.tolist() ))\n",
    "\n",
    "# Creates a separate dataframe that holds chemicals for cocoa in foodb with a real quantification\n",
    "fdb_d_q = fdb_d[fdb_d.standard_content.notnull()][['chem_id', 'chem_id_p', 'chem_id_f', 'orig_source_id','name', 'standard_content']].drop_duplicates()\n",
    "\n",
    "# Creates a separate dataframe that holds chemicals for cocoa in foodb without a real quantification\n",
    "fdb_d_uq = fdb_d[fdb_d.standard_content.isnull()][['chem_id', 'chem_id_p', 'chem_id_f', 'orig_source_id', 'name', 'standard_content']].reset_index()\n",
    "\n",
    "q_ids = list(set( fdb_d_q.chem_id.tolist() ))\n",
    "q_names = list(set( fdb_d_q.name.tolist() ))\n",
    "fdb_d_uq = fdb_d_uq[(~fdb_d_uq.chem_id.fillna('-').isin(q_ids)) & (~fdb_d_uq.name.fillna('-').isin(q_names))]\n",
    "\n",
    "\n",
    "# Loads FoodMine data\n",
    "fm = pd.read_pickle('misc_save/cocoa_fm.pkl')\n",
    "fm_q = pd.read_pickle('misc_save/cocoa_fm_quant.pkl')\n",
    "fm_uq = pd.read_pickle('misc_save/cocoa_fm_unquant.pkl')\n",
    "fm.rename(columns={'pubchem_id' : 'chem_id_p', 'foodb_id' : 'chem_id_f'}, inplace=True)\n",
    "fm_q.rename(columns={'pubchem_id' : 'chem_id_p', 'foodb_id' : 'chem_id_f'}, inplace=True)\n",
    "fm_uq.rename(columns={'pubchem_id' : 'chem_id_p', 'foodb_id' : 'chem_id_f'}, inplace=True)\n",
    "\n",
    "\n",
    "# Load USDA data\n",
    "usda = pd.read_pickle('misc_save/cocoa_usda.pkl')\n",
    "usda.rename(columns={'pubchem_id' : 'chem_id_p', 'foodb_id' : 'chem_id_f'}, inplace=True)"
   ]
  },
  {
   "cell_type": "code",
   "execution_count": 22,
   "metadata": {},
   "outputs": [
    {
     "data": {
      "text/html": [
       "<div>\n",
       "<style scoped>\n",
       "    .dataframe tbody tr th:only-of-type {\n",
       "        vertical-align: middle;\n",
       "    }\n",
       "\n",
       "    .dataframe tbody tr th {\n",
       "        vertical-align: top;\n",
       "    }\n",
       "\n",
       "    .dataframe thead th {\n",
       "        text-align: right;\n",
       "    }\n",
       "</style>\n",
       "<table border=\"1\" class=\"dataframe\">\n",
       "  <thead>\n",
       "    <tr style=\"text-align: right;\">\n",
       "      <th></th>\n",
       "      <th></th>\n",
       "      <th>quant</th>\n",
       "      <th>unquant</th>\n",
       "      <th>absent</th>\n",
       "      <th>total</th>\n",
       "    </tr>\n",
       "  </thead>\n",
       "  <tbody>\n",
       "    <tr>\n",
       "      <th>0</th>\n",
       "      <td>foodmine</td>\n",
       "      <td>138</td>\n",
       "      <td>24</td>\n",
       "      <td>12086</td>\n",
       "      <td>12248</td>\n",
       "    </tr>\n",
       "    <tr>\n",
       "      <th>1</th>\n",
       "      <td>foodb</td>\n",
       "      <td>72</td>\n",
       "      <td>467</td>\n",
       "      <td>11709</td>\n",
       "      <td>12248</td>\n",
       "    </tr>\n",
       "    <tr>\n",
       "      <th>2</th>\n",
       "      <td>usda</td>\n",
       "      <td>25</td>\n",
       "      <td>0</td>\n",
       "      <td>12223</td>\n",
       "      <td>12248</td>\n",
       "    </tr>\n",
       "  </tbody>\n",
       "</table>\n",
       "</div>"
      ],
      "text/plain": [
       "             quant  unquant  absent  total\n",
       "0  foodmine    138       24   12086  12248\n",
       "1     foodb     72      467   11709  12248\n",
       "2      usda     25        0   12223  12248"
      ]
     },
     "execution_count": 22,
     "metadata": {},
     "output_type": "execute_result"
    }
   ],
   "source": [
    "disambiguation_table(fm_q, fm_uq, fdb_d_q, fdb_d_uq, usda)"
   ]
  },
  {
   "cell_type": "code",
   "execution_count": null,
   "metadata": {},
   "outputs": [],
   "source": []
  }
 ],
 "metadata": {
  "kernelspec": {
   "display_name": "Python 3",
   "language": "python",
   "name": "python3"
  },
  "language_info": {
   "codemirror_mode": {
    "name": "ipython",
    "version": 3
   },
   "file_extension": ".py",
   "mimetype": "text/x-python",
   "name": "python",
   "nbconvert_exporter": "python",
   "pygments_lexer": "ipython3",
   "version": "3.7.3"
  }
 },
 "nbformat": 4,
 "nbformat_minor": 2
}
