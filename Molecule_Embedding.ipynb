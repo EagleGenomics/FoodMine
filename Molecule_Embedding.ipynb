{
 "cells": [
  {
   "cell_type": "code",
   "execution_count": 7,
   "metadata": {
    "collapsed": true
   },
   "outputs": [],
   "source": [
    "import pandas as pd\n",
    "import numpy as np\n",
    "from time import time, sleep\n",
    "import pickle\n",
    "import matplotlib.pyplot as plt\n",
    "import matplotlib as mpl\n",
    "import seaborn as sns\n",
    "%matplotlib inline\n",
    "mpl.rcParams['figure.dpi']= 150\n",
    "\n",
    "from rdkit import Chem\n",
    "from rdkit.Chem import AllChem\n",
    "from rdkit.Chem import DataStructs\n",
    "\n",
    "import urllib.request as request\n",
    "from lxml import etree\n",
    "\n",
    "from gensim.models import Word2Vec\n",
    "from sklearn.manifold import TSNE\n",
    "from sklearn.decomposition import PCA"
   ]
  },
  {
   "cell_type": "code",
   "execution_count": 2,
   "metadata": {
    "collapsed": true
   },
   "outputs": [],
   "source": [
    "import importlib\n",
    "import sys\n",
    "sys.path.append('./misc')\n",
    "\n",
    "import misc.pubmed_util\n",
    "importlib.reload(misc.pubmed_util)\n",
    "import misc.pubmed_util as PMD"
   ]
  },
  {
   "cell_type": "code",
   "execution_count": 3,
   "metadata": {
    "collapsed": true
   },
   "outputs": [],
   "source": [
    "food = 'garlic'\n",
    "#food = 'cocoa'\n",
    "\n",
    "food_data = pd.read_pickle('misc_save/' + food + '_food_data.pkl')\n",
    "foodb_food = pd.read_pickle('misc_save/' + food + '_foodb_food.pkl')\n",
    "usda = pd.read_pickle('misc_save/' + food + '_usda_conv.pkl')\n",
    "\n",
    "foodb_food = foodb_food[foodb_food.standard_content.notnull()]\n",
    "\n",
    "u = ['mg/100g', 'mg/100']\n",
    "foodb_food = foodb_food[foodb_food.units.isin(u)]\n",
    "\n",
    "foodb_food = foodb_food.rename(columns={'orig_source_name' : 'chemical', 'standard_content':'average_mean'})\n",
    "usda = usda.rename(columns = {'nut_desc' : 'chemical', 'usda_amount' : 'average_mean'})\n",
    "\n",
    "food_data['source'] = 'pilot'\n",
    "foodb_food['source'] = 'FooDB'\n",
    "usda['source'] = 'USDA'"
   ]
  },
  {
   "cell_type": "code",
   "execution_count": 4,
   "metadata": {
    "collapsed": true
   },
   "outputs": [],
   "source": [
    "def filt(df, simple=False):\n",
    "    \n",
    "    if simple:\n",
    "        df = df[['chemical', 'chem_id_p']].drop_duplicates()\n",
    "    else:\n",
    "        df = df[['chemical', 'chem_id_p', 'average_mean', 'source']].drop_duplicates()\n",
    "    \n",
    "    df = df[df['chem_id_p'].notnull()]\n",
    "    \n",
    "    return df.reset_index(drop=True)\n",
    "\n",
    "chems = pd.concat([filt(food_data, simple=True), \n",
    "                   filt(foodb_food, simple=True),\n",
    "                   filt(usda, simple=True)])"
   ]
  },
  {
   "cell_type": "code",
   "execution_count": 26,
   "metadata": {
    "collapsed": true
   },
   "outputs": [],
   "source": [
    "for idx, row in chems.iterrows():\n",
    "    chems.at[idx, 'SMILE'] = PMD.pubchem_SMILE(str(int(row['chem_id_p'])))\n",
    "    sleep(.1)"
   ]
  },
  {
   "cell_type": "code",
   "execution_count": 5,
   "metadata": {
    "collapsed": true
   },
   "outputs": [],
   "source": [
    "#chems.to_pickle('misc_save/' + food + '_SMILES.pkl')\n",
    "chems = pd.read_pickle('misc_save/' + food + '_SMILES.pkl')"
   ]
  },
  {
   "cell_type": "markdown",
   "metadata": {},
   "source": [
    "# Fingerprint Analysis"
   ]
  },
  {
   "cell_type": "code",
   "execution_count": 8,
   "metadata": {},
   "outputs": [],
   "source": [
    "def get_fingerprint_string(SMILE):\n",
    "    # Gets dictionary of subcompountnets and their counts\n",
    "    sub_dict = AllChem.GetMorganFingerprint(Chem.MolFromSmiles(SMILE),1).GetNonzeroElements()\n",
    "\n",
    "    fingerprint = []\n",
    "    for key, value in sub_dict.items():\n",
    "        fingerprint = fingerprint + [str(key)] * value\n",
    "\n",
    "    return ' '.join(fingerprint)\n",
    "\n",
    "for idx, row in chems.iterrows():\n",
    "    chems.at[idx, 'fingerprint'] = get_fingerprint_string(row['SMILE'])"
   ]
  },
  {
   "cell_type": "code",
   "execution_count": 9,
   "metadata": {
    "collapsed": true
   },
   "outputs": [],
   "source": [
    "def get_ordered_fingerprint_string(SMILE):\n",
    "    bi = {}\n",
    "    AllChem.GetMorganFingerprint(Chem.MolFromSmiles(SMILE), radius=1, bitInfo=bi)\n",
    "\n",
    "    mol = pd.DataFrame()\n",
    "    for key, value in bi.items():\n",
    "        for i in range(len(value)):\n",
    "            sub = pd.Series()\n",
    "            sub['val'] = str(key)\n",
    "\n",
    "            sub['order'] = value[i][0]\n",
    "            sub['radius'] = value[i][1]\n",
    "\n",
    "            mol = mol.append(sub, ignore_index=True)\n",
    "\n",
    "    mol = mol.sort_values(by=['order', 'radius']).reset_index(drop=True)\n",
    "    #display(mol)\n",
    "    \n",
    "    mol_string = \" \".join(mol.val.tolist())\n",
    "        \n",
    "    return mol_string.strip()\n",
    "\n",
    "for idx, row in chems.iterrows():\n",
    "    chems.at[idx, 'fingerprint'] = get_ordered_fingerprint_string(row['SMILE'])"
   ]
  },
  {
   "cell_type": "code",
   "execution_count": 10,
   "metadata": {
    "collapsed": true
   },
   "outputs": [],
   "source": [
    "#chems.to_pickle('misc_save/' + food + '_fingerprints.pkl')\n",
    "chems = pd.read_pickle('misc_save/' + food + '_fingerprints.pkl')"
   ]
  },
  {
   "cell_type": "code",
   "execution_count": null,
   "metadata": {
    "collapsed": true
   },
   "outputs": [],
   "source": []
  },
  {
   "cell_type": "code",
   "execution_count": null,
   "metadata": {
    "collapsed": true
   },
   "outputs": [],
   "source": []
  }
 ],
 "metadata": {
  "kernelspec": {
   "display_name": "Python 3",
   "language": "python",
   "name": "python3"
  },
  "language_info": {
   "codemirror_mode": {
    "name": "ipython",
    "version": 3
   },
   "file_extension": ".py",
   "mimetype": "text/x-python",
   "name": "python",
   "nbconvert_exporter": "python",
   "pygments_lexer": "ipython3",
   "version": "3.6.8"
  }
 },
 "nbformat": 4,
 "nbformat_minor": 2
}
