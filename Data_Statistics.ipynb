{
 "cells": [
  {
   "cell_type": "markdown",
   "metadata": {},
   "source": [
    "Notebook created by Forrest Hooton"
   ]
  },
  {
   "cell_type": "code",
   "execution_count": 1,
   "metadata": {},
   "outputs": [],
   "source": [
    "from time import time\n",
    "import pandas as pd\n",
    "import numpy as np\n",
    "import re\n",
    "from collections import Counter\n",
    "\n",
    "import matplotlib.pyplot as plt\n",
    "import seaborn as sns\n",
    "import matplotlib as mpl\n",
    "import matplotlib.patches as mpatches\n",
    "%matplotlib inline"
   ]
  },
  {
   "cell_type": "code",
   "execution_count": 2,
   "metadata": {},
   "outputs": [],
   "source": [
    "# For higher resolution production graphs\n",
    "mpl.rcParams['figure.dpi']= 150"
   ]
  },
  {
   "cell_type": "code",
   "execution_count": 3,
   "metadata": {},
   "outputs": [],
   "source": [
    "import src.pubmed_util as PMD\n",
    "from src import collected_data_handling"
   ]
  },
  {
   "cell_type": "code",
   "execution_count": 4,
   "metadata": {},
   "outputs": [],
   "source": [
    "import src.Chemidr.chemidr.labeler as lbr\n",
    "import src.Chemidr.chemidr.id_map as id_map"
   ]
  },
  {
   "cell_type": "markdown",
   "metadata": {},
   "source": [
    "# Loading and Formatting Data"
   ]
  },
  {
   "cell_type": "code",
   "execution_count": 5,
   "metadata": {},
   "outputs": [],
   "source": [
    "# Function to quickly clean plot\n",
    "def clean_plot():\n",
    "    ax = plt.gca()\n",
    "    ax.spines['right'].set_visible(False)\n",
    "    ax.spines['top'].set_visible(False)\n",
    "    ax.yaxis.set_ticks_position('left')\n",
    "    ax.xaxis.set_ticks_position('bottom')\n",
    "\n",
    "# Problem inputing letters into csv, so created system to convert them here\n",
    "def greek_letter_converter(chem, convert_letter = True):\n",
    "    if convert_letter:\n",
    "        chem = chem.replace('*alpha*', 'α')\n",
    "        chem = chem.replace('*beta*', 'β')\n",
    "        chem = chem.replace('*gamma*', 'γ')\n",
    "        chem = chem.replace('*rho*', 'ρ')\n",
    "        chem = chem.replace('*delta*', 'δ')\n",
    "    else:\n",
    "        chem = chem.replace('*alpha*', 'alpha')\n",
    "        chem = chem.replace('*beta*', 'beta')\n",
    "        chem = chem.replace('*gamma*', 'gamma')\n",
    "        chem = chem.replace('*rho*', 'rho')\n",
    "        chem = chem.replace('*delta*', 'delta')\n",
    "    return chem\n",
    "\n",
    "# Clean terms for various file applications\n",
    "def clean_term(term, convert_letter = True, w_space = True, is_url=True):\n",
    "    term = term.lower().strip()\n",
    "    \n",
    "    if convert_letter:\n",
    "        term = greek_letter_converter(term)\n",
    "    else:\n",
    "        term = greek_letter_converter(term, convert_letter=False)\n",
    "    \n",
    "    if w_space:\n",
    "        if is_url:\n",
    "            term = term.replace(' ', '%20') # To replace ' ' in request\n",
    "        else:\n",
    "            pass\n",
    "    else:\n",
    "        term = term.replace(' ', '')\n",
    "    return term"
   ]
  },
  {
   "cell_type": "code",
   "execution_count": 6,
   "metadata": {},
   "outputs": [],
   "source": [
    "def id_loader(df, chem_key, load, file, fdb=True, pubchem=True):\n",
    "    \n",
    "    if load:\n",
    "        df = pd.read_pickle(f'data/{file}')\n",
    "    else:\n",
    "        df = lbr.id_searcher(df, chem_key, fdb=fdb, pubchem=pubchem)\n",
    "        df.to_pickle(f'misc_save/{file}')\n",
    "    \n",
    "    df.rename(columns={'pubchem_id' : 'chem_id_p', 'foodb_id' : 'chem_id_f'}, inplace=True)\n",
    "    \n",
    "    return df"
   ]
  },
  {
   "cell_type": "code",
   "execution_count": 26,
   "metadata": {},
   "outputs": [],
   "source": [
    "i = 1\n",
    "\n",
    "def config(i):\n",
    "    if i == 1:\n",
    "        food = 'garlic'\n",
    "    elif i == 2:\n",
    "        food = 'cocoa'\n",
    "    \n",
    "    return food\n",
    "\n",
    "food = config(i)\n",
    "load = True"
   ]
  },
  {
   "cell_type": "markdown",
   "metadata": {},
   "source": [
    "## Pilot Data"
   ]
  },
  {
   "cell_type": "code",
   "execution_count": 27,
   "metadata": {},
   "outputs": [],
   "source": [
    "def load_raw_data(food, load):\n",
    "    if load:\n",
    "        food_data = pd.read_pickle(f'misc_save/{food}_food_data.pkl')\n",
    "    else:\n",
    "        food_data = pd.read_csv(f'data/{food}_data.csv', encoding='latin1')\n",
    "    \n",
    "    food_scoring = pd.read_csv(f'data/{food}_scoring.csv', encoding='latin1')\n",
    "\n",
    "    # Need to remove phenol explorer ids that were manually put into data (for garlic only)\n",
    "    food_data = food_data[food_data.PMID.isin(food_scoring.PMID.tolist())]\n",
    "\n",
    "    food_data.chemical = food_data.chemical.str.lower()\n",
    "    food_data.amount = food_data.amount.str.replace(',', '')\n",
    "\n",
    "    food_data = food_data.merge(food_scoring[['PMID','is_useful']], how = 'left', on = 'PMID')\n",
    "    \n",
    "    return food_data, food_scoring\n",
    "\n",
    "food_data, food_scoring = load_raw_data(food, load)"
   ]
  },
  {
   "cell_type": "markdown",
   "metadata": {},
   "source": [
    "Note: Keys appended October 2018. Keys subject to change with changing PubMed database."
   ]
  },
  {
   "cell_type": "code",
   "execution_count": 28,
   "metadata": {
    "scrolled": true
   },
   "outputs": [],
   "source": [
    "def append_keys_raw_data(food_data, food):\n",
    "    food_data = id_loader(food_data, 'chemical', load, f'{food}_food_data.pkl')\n",
    "    \n",
    "    return food_data\n",
    "\n",
    "food_data = append_keys_raw_data(food_data, food)"
   ]
  },
  {
   "cell_type": "code",
   "execution_count": 10,
   "metadata": {},
   "outputs": [
    {
     "name": "stdout",
     "output_type": "stream",
     "text": [
      "Number of unique papers: 77\n",
      "Total number of records: 1426\n"
     ]
    }
   ],
   "source": [
    "# Number of unique papers in garlic_test.csv\n",
    "print('Number of unique papers:', len(food_data['PMID'].drop_duplicates()))\n",
    "print('Total number of records:', len(food_data))"
   ]
  },
  {
   "cell_type": "code",
   "execution_count": 11,
   "metadata": {},
   "outputs": [],
   "source": [
    "# Make units processable\n",
    "# Not all units were entered cleanly, so this function ensures that the data works for collected_data_handling\n",
    "def unit_clean(df):\n",
    "    df.units = df.units.replace('ug/ml', 'ug/L')\n",
    "    df.units = df.units.replace('U/ml', 'ug/L')\n",
    "    df.units = df.units.replace('mg/ml', 'ug/L')\n",
    "    df.units = df.units.replace('mg/l', 'ug/L')\n",
    "    df.units = df.units.replace('g/l', 'ug/L')\n",
    "    df.units = df.units.replace('mM', 'ug/L')\n",
    "    df.units = df.units.replace('mg/ ECE g', 'ug/L')\n",
    "    df.units = df.units.replace('m/z', '%')\n",
    "    df.units = df.units.replace('mg/lg', 'ug/L')\n",
    "    df.units = df.units.replace('mmol/g', 'ug/L')\n",
    "    df.units = df.units.replace('-', 'ug/L')\n",
    "\n",
    "    df.amount = df.amount.str.strip('~')\n",
    "    df.amount = df.amount.str.strip('<')\n",
    "\n",
    "    # Replace with value of 0 when experiments measured quantified contents, but had no detection \n",
    "    df.amount = df.amount.replace('not quantified', '0')\n",
    "    df.amount = df.amount.replace('LOD', '0')\n",
    "    df.amount = df.amount.replace('ND', '0')\n",
    "    df.amount = df.amount.replace('NQ', '0')\n",
    "    df.amount = df.amount.replace('nd', '0')\n",
    "    df.amount = df.amount.replace('n.q', '0')\n",
    "    df.amount = df.amount.replace('n.q.', '0')\n",
    "    df.amount = df.amount.replace('no analyzed', '0')\n",
    "    df.amount = df.amount.replace('-', '0')\n",
    "    \n",
    "    return df\n",
    "\n",
    "def clean_raw_data_strings(food_data):\n",
    "    food_data.chemical = food_data.chemical.apply(clean_term, is_url=False)\n",
    "    food_data = unit_clean(food_data)\n",
    "    \n",
    "    return food_data\n",
    "\n",
    "food_data = clean_raw_data_strings(food_data)"
   ]
  },
  {
   "cell_type": "code",
   "execution_count": 12,
   "metadata": {},
   "outputs": [],
   "source": [
    "# Partition data into quantified and unquantified\n",
    "def partition_raw_data(food_data, food_scoring):\n",
    "\n",
    "    for idx, row in food_data.iterrows():\n",
    "        try:\n",
    "            row['units'].count('g')\n",
    "        except:\n",
    "            print(row['units'])\n",
    "\n",
    "        if row['units'].count('g') > 1:\n",
    "            food_data.at[idx, 'is_quant'] = 1\n",
    "        else:\n",
    "            food_data.at[idx, 'is_quant'] = 0\n",
    "\n",
    "    # Remove all rows where the units are %'s\n",
    "    food_data_q = food_data[food_data['is_quant'] == 1].reset_index(drop=True)\n",
    "\n",
    "    # Have a seperate dataframe for all chemicals that we would put in the category of 'detected but not quantified'\n",
    "    food_data_dnq = food_data[food_data['is_quant'] == 0].reset_index(drop=True)\n",
    "\n",
    "     # The quantified dataframe for values that are both quantified and unquantified\n",
    "    unq_chems = list(set( food_data_dnq['chemical'].tolist() ))\n",
    "    food_data_both = food_data_q.iloc[[idx for idx, row in food_data_q.fillna('placeholder').iterrows() if row['chemical'] in unq_chems]]\n",
    "\n",
    "    # Remove occurances of overlaping chemicals from the unquantified garlic data\n",
    "    q_chems = list(set( food_data_q['chemical'].tolist() ))\n",
    "    food_data_dnq = food_data_dnq.iloc[[idx for idx, row in food_data_dnq.fillna('placeholder').iterrows() if row['chemical'] not in q_chems]]\n",
    "    \n",
    "    return food_data_q, food_data_dnq\n",
    "\n",
    "food_data_q, food_data_dnq = partition_raw_data(food_data, food_scoring)"
   ]
  },
  {
   "cell_type": "code",
   "execution_count": 13,
   "metadata": {},
   "outputs": [],
   "source": [
    "# Creates food_mine database data from raw collected data\n",
    "def build_food_mine(food_data, food_data_q, food_data_dnq):\n",
    "    food_mine = collected_data_handling.build_data_dict(food_data)\n",
    "\n",
    "    quant_food_mine = collected_data_handling.build_data_dict(food_data_q)\n",
    "\n",
    "    unquant_food_mine = collected_data_handling.build_data_dict(food_data_dnq)\n",
    "    \n",
    "    # Need to recompare quantified chems and unquantified chems with synonym key to do one last removal\n",
    "    q_chems = list(set( quant_food_mine['chem_id'].tolist() ))\n",
    "    unquant_food_mine = unquant_food_mine[~unquant_food_mine.chem_id.isin(q_chems)].reset_index()\n",
    "    \n",
    "    return food_mine, quant_food_mine, unquant_food_mine\n",
    "\n",
    "food_mine, quant_food_mine, unquant_food_mine = build_food_mine(food_data, food_data_q, food_data_dnq)"
   ]
  },
  {
   "cell_type": "markdown",
   "metadata": {},
   "source": [
    "## FooDB Data"
   ]
  },
  {
   "cell_type": "code",
   "execution_count": 19,
   "metadata": {},
   "outputs": [
    {
     "name": "stderr",
     "output_type": "stream",
     "text": [
      "C:\\software\\Anaconda3\\envs\\advanced\\lib\\site-packages\\IPython\\core\\interactiveshell.py:3249: DtypeWarning: Columns (5,6,7,8,9,10,14,15,22,23) have mixed types. Specify dtype option on import or set low_memory=False.\n",
      "  if (await self.run_code(code, result,  async_=asy)):\n",
      "C:\\software\\Anaconda3\\envs\\advanced\\lib\\site-packages\\IPython\\core\\interactiveshell.py:3249: DtypeWarning: Columns (13,14,17,45,50,51,54,55,62,63,64,65,66,67,68,69,88) have mixed types. Specify dtype option on import or set low_memory=False.\n",
      "  if (await self.run_code(code, result,  async_=asy)):\n"
     ]
    }
   ],
   "source": [
    "# Loads data from FooDB\n",
    "def load_foodb_data(food, load):\n",
    "    # Dataframe with contents of foodb\n",
    "    \n",
    "    foodb = pd.read_csv('data/contentssql.csv')\n",
    "    foodb = foodb[(foodb.source_type != 'Nutrient') & (foodb.source_id != 0) & (foodb.standard_content != 0)]\n",
    "\n",
    "    compounds = pd.read_csv('data/compounds.csv', encoding='latin1')\n",
    "\n",
    "    foodb = foodb.merge(compounds[['id', 'name']], how='left', left_on='source_id', right_on='id')\n",
    "\n",
    "    if food == 'garlic':\n",
    "        # Garlic - [\"Garlic\", \"Soft-necked Garlic\"]\n",
    "        target_foodb_food_id = [8, 880]\n",
    "\n",
    "    if food == 'cocoa':\n",
    "        # Cocoa - [\"cocoa bean\", \"cocoa butter\", \"Cocoa powder\", \"Cocoa Liquor\"]\n",
    "        target_foodb_food_id = [182, 706, 707,708]\n",
    "\n",
    "    # Gets the subset of the database pertaining to food\n",
    "    foodb_food = foodb[foodb.food_id.isin(target_foodb_food_id)].reset_index(drop=True)\n",
    "\n",
    "    # Transforms all the chemical names to lowercase for syncing\n",
    "    foodb_food.name = foodb_food.name.str.lower()\n",
    "\n",
    "    foodb_food = foodb_food.rename(index=str, columns={\"source_id\": \"foodb_id\"})\n",
    "    \n",
    "    if load:\n",
    "        foodb_food = pd.read_pickle(f'data/{food}_foodb_food.pkl')\n",
    "        foodb_food.rename(columns={'orig_source_name' : 'name'}, inplace=True)\n",
    "                \n",
    "    foodb_food = id_loader(foodb_food, 'name', load, f'{food}_foodb_food.pkl',fdb=False)\n",
    "\n",
    "    # Creates a list of the unique chemicals in garlic from foodb\n",
    "    foodb_food_lower = list(set( foodb_food.chem_id.tolist() ))\n",
    "\n",
    "    # Creates a seperate dataframe that holds chemicals for garlic in foodb with a real quantification\n",
    "    quant_foodb_food = foodb_food[foodb_food.standard_content.notnull()][['chem_id', 'chem_id_f', 'orig_source_id','name', 'standard_content']].drop_duplicates()\n",
    "\n",
    "    # Creates a seperate dataframe that holds chemicals for garlic in foodb without a real quantification\n",
    "    unquant_foodb_food = foodb_food[foodb_food.standard_content.isnull()][['chem_id', 'chem_id_f', 'orig_source_id','name', 'standard_content']].reset_index()\n",
    "    \n",
    "    q_ids = list(set( quant_foodb_food.chem_id.tolist() ))\n",
    "    q_names = list(set( quant_foodb_food.name.tolist() ))\n",
    "    unquant_foodb_food = unquant_foodb_food[(~unquant_foodb_food.chem_id.fillna('-').isin(q_ids))\n",
    "                                           & (~unquant_foodb_food.name.fillna('-').isin(q_names))]\n",
    "    \n",
    "    return foodb_food, quant_foodb_food, unquant_foodb_food\n",
    "\n",
    "foodb_food, quant_foodb_food, unquant_foodb_food = load_foodb_data(food, load)"
   ]
  },
  {
   "cell_type": "markdown",
   "metadata": {},
   "source": [
    "## USDA Data"
   ]
  },
  {
   "cell_type": "code",
   "execution_count": 20,
   "metadata": {},
   "outputs": [
    {
     "name": "stderr",
     "output_type": "stream",
     "text": [
      "C:\\software\\Anaconda3\\envs\\advanced\\lib\\site-packages\\IPython\\core\\interactiveshell.py:3249: DtypeWarning: Columns (14,15) have mixed types. Specify dtype option on import or set low_memory=False.\n",
      "  if (await self.run_code(code, result,  async_=asy)):\n"
     ]
    }
   ],
   "source": [
    "# Loads USDA data\n",
    "def load_usda_data(food, load):\n",
    "\n",
    "    if food == 'garlic':\n",
    "        # Garlic, 'Garlic, raw', 'Spices, garlic powder'\n",
    "        NDB_id = [11215, 2020]\n",
    "\n",
    "    if food == 'cocoa':\n",
    "        # Cocoa, 'Oil, cocoa butter', 'Cocoa, dry powder, Hershey's European style cocoa', \n",
    "        # 'Cocoa, dry powder, unsweetened', 'Cocoa, dry powder, unsweetend, processed with alkali',\n",
    "        # 'Cocoa, dry powder, hi-fat or breakfast, processed with alkali'\n",
    "        NDB_id = [4501, 19171, 19165, 19166, 19860]\n",
    "\n",
    "    # Reads in USDA database\n",
    "    usda = pd.read_csv('data/SR28_plus_flav.csv', encoding = 'latin1')\n",
    "\n",
    "    # Filters out rows not apart of NDB_id\n",
    "    usda = usda[usda.NDB_No.isin(NDB_id)][['NDB_No','food_name', 'Nutr_No_new', 'nut_desc', 'Nutr_Val', 'unit']]\n",
    "    usda['num_measures'] = 1\n",
    "\n",
    "    # Average chemicals that appear in multiple USDA food catagoriess\n",
    "    for nutr in usda.Nutr_No_new.drop_duplicates().tolist():\n",
    "        temp = usda[usda.Nutr_No_new == nutr]\n",
    "        if len(temp) > 1:\n",
    "            if len(temp.unit.drop_duplicates()) > 1:\n",
    "                print(nutr, 'has different units for same nutrient')\n",
    "            new_row = temp.copy().reset_index(drop=True).loc[0,:]\n",
    "            new_row['Nutr_Val'] = temp.Nutr_Val.mean()\n",
    "            new_row['num_measures'] = len(temp)\n",
    "\n",
    "            usda = usda.drop(temp.index)\n",
    "            usda = usda.append(new_row)\n",
    "\n",
    "    usda = usda.reset_index(drop=True)\n",
    "\n",
    "    # Append chemical key matcher to USDA chemicals\n",
    "    if load:\n",
    "        usda = pd.read_pickle(f'data/{food}_usda.pkl')\n",
    "    else:\n",
    "        usda = id_loader(usda, 'nut_desc', load, f'{food}_usda.pkl').reset_index(drop=True)\n",
    "        \n",
    "    usda.rename(columns={'foodb_id' : 'chem_id_f'}, inplace=True)\n",
    "        \n",
    "    usda = usda[~usda.unit.isin(['IU', 'kcal', 'kJ'])].reset_index(drop=True)\n",
    "\n",
    "    return usda\n",
    "\n",
    "usda = load_usda_data(food, load)"
   ]
  },
  {
   "cell_type": "markdown",
   "metadata": {},
   "source": [
    "# Numerical Database Comparison"
   ]
  },
  {
   "cell_type": "code",
   "execution_count": 21,
   "metadata": {},
   "outputs": [],
   "source": [
    "# Compares databases to show percise differences\n",
    "def compare_chems(df, df_key, quant_identifiers, unquant_identifiers):\n",
    "    \n",
    "    identifiers = quant_identifiers + unquant_identifiers\n",
    "    \n",
    "    # Calculates number of unique chems\n",
    "    neg_comparison_df = df.iloc[[idx for idx, row in df.fillna('placeholder').iterrows() if row[df_key] not in identifiers], :]\n",
    "    #display(neg_comparison_df)\n",
    "    neg_num_chems = len(neg_comparison_df)\n",
    "    neg_num_chems_w_synonyms = len(neg_comparison_df[neg_comparison_df[df_key].notnull()][df_key].drop_duplicates()) + len(neg_comparison_df[neg_comparison_df[df_key].isnull()])\n",
    "    \n",
    "    print('Num unique chems:', neg_num_chems)\n",
    "    print('Num unique chems, accounting for synonyms:', neg_num_chems_w_synonyms, '<-')\n",
    "    \n",
    "    pos_comparison_df = df.iloc[[idx for idx, row in df.fillna('placeholder').iterrows() if row[df_key] in identifiers], :].reset_index()\n",
    "    \n",
    "    pos_num_chems = len(pos_comparison_df)\n",
    "    pos_num_chems_w_synonyms = len(pos_comparison_df[pos_comparison_df[df_key].notnull()][df_key].drop_duplicates()) + len(pos_comparison_df[pos_comparison_df[df_key].isnull()])\n",
    "    \n",
    "    print('Num overlapping chems:', pos_num_chems)\n",
    "    print('Num overlapping chems, accounting for synonyms:', pos_num_chems_w_synonyms)\n",
    "    \n",
    "    # Need to find the splits of quantified and unquantified chemicals from the subset overlapping with foodb\n",
    "    quant_comparison_df = pos_comparison_df.iloc[[idx for idx, row in pos_comparison_df.fillna('placeholder').iterrows() if row[df_key] in quant_identifiers], :]\n",
    "    unquant_comparison_df = pos_comparison_df.iloc[[idx for idx, row in pos_comparison_df.fillna('placeholder').iterrows() if row[df_key] in unquant_identifiers], :]\n",
    "    \n",
    "    quant_num_chems = len(quant_comparison_df)\n",
    "    quant_num_chems_w_synonyms = len(quant_comparison_df[quant_comparison_df[df_key].notnull()][df_key].drop_duplicates()) + len(quant_comparison_df[quant_comparison_df[df_key].isnull()])\n",
    "    \n",
    "    unquant_num_chems = len(unquant_comparison_df)\n",
    "    unquant_num_chems_w_synonyms = len(unquant_comparison_df[unquant_comparison_df[df_key].notnull()][df_key].drop_duplicates()) + len(unquant_comparison_df[unquant_comparison_df[df_key].isnull()])\n",
    "    \n",
    "    print('Num overlapping chems - quantified, accounting for synonyms:', quant_num_chems_w_synonyms, '<-')\n",
    "    \n",
    "    print('Num overlapping chems - unquantified, accounting for synonyms:', unquant_num_chems_w_synonyms, '<-')\n",
    "    \n",
    "    print('---------------------------------------------------------------------------------')\n",
    "    \n",
    "    total_n_chems = neg_num_chems_w_synonyms + quant_num_chems_w_synonyms + unquant_num_chems_w_synonyms\n",
    "    \n",
    "    return total_n_chems, neg_num_chems_w_synonyms, quant_num_chems_w_synonyms, unquant_num_chems_w_synonyms\n",
    "\n",
    "def get_unique_df(df, df_key, quant_identifiers, unquant_identifiers):\n",
    "    identifiers = quant_identifiers + unquant_identifiers\n",
    "    \n",
    "    # Calculates number of unique chems\n",
    "    neg_comparison_df = df.iloc[[idx for idx, row in df.fillna('placeholder').iterrows() if row[df_key] not in identifiers], :]\n",
    "    \n",
    "    return neg_comparison_df.reset_index(drop=True)"
   ]
  },
  {
   "cell_type": "code",
   "execution_count": 93,
   "metadata": {},
   "outputs": [
    {
     "name": "stdout",
     "output_type": "stream",
     "text": [
      "Num unique chems: 130\n",
      "Num unique chems, accounting for synonyms: 130 <-\n",
      "Num overlapping chems: 73\n",
      "Num overlapping chems, accounting for synonyms: 73\n",
      "Num overlapping chems - quantified, accounting for synonyms: 44 <-\n",
      "Num overlapping chems - unquantified, accounting for synonyms: 33 <-\n",
      "---------------------------------------------------------------------------------\n"
     ]
    }
   ],
   "source": [
    "quant_foodb_chem_ids = quant_foodb_food[quant_foodb_food['chem_id'].notnull()].chem_id.tolist() + usda[usda.chem_id.notnull()].chem_id.tolist()\n",
    "unquant_foodb_chem_ids = unquant_foodb_food[unquant_foodb_food['chem_id'].notnull()].chem_id.tolist()\n",
    "ntotal_qchems, nunique_qchems, n_qqchems, n_quchems = compare_chems(quant_food_mine, 'chem_id', quant_foodb_chem_ids, unquant_foodb_chem_ids)"
   ]
  },
  {
   "cell_type": "code",
   "execution_count": 94,
   "metadata": {},
   "outputs": [
    {
     "name": "stdout",
     "output_type": "stream",
     "text": [
      "Num unique chems: 38\n",
      "Num unique chems, accounting for synonyms: 38 <-\n",
      "Num overlapping chems: 5\n",
      "Num overlapping chems, accounting for synonyms: 5\n",
      "Num overlapping chems - quantified, accounting for synonyms: 1 <-\n",
      "Num overlapping chems - unquantified, accounting for synonyms: 4 <-\n",
      "---------------------------------------------------------------------------------\n"
     ]
    }
   ],
   "source": [
    "ntotal_uchems, nunique_uchems, n_uqchems, n_uuchems = compare_chems(unquant_food_mine, 'chem_id', quant_foodb_chem_ids, unquant_foodb_chem_ids)"
   ]
  },
  {
   "cell_type": "code",
   "execution_count": 22,
   "metadata": {},
   "outputs": [],
   "source": [
    "def make_table(q1, uq1, q2, uq2, q1_identifier, q2_identifier, q1_strings, q2_strings, q1_val, q2_val):\n",
    "#     print('num nutrients q1', len(q1[q1[q1_strings].apply(lbr.__is_nutrient__)]) + len(uq1[uq1[q1_strings].apply(lbr.__is_nutrient__)]))\n",
    "#     print('num nutrients q2', len(q2[q2[q2_strings].apply(lbr.__is_nutrient__)]) + len(uq2[uq2[q2_strings].apply(lbr.__is_nutrient__)]))\n",
    "    \n",
    "    # Remove nutrients\n",
    "#     q1 = q1[~q1[q1_strings].apply(lbr.__is_nutrient__)]\n",
    "#     uq1 = uq1[~uq1[q1_strings].apply(lbr.__is_nutrient__)]\n",
    "#     q2 = q2[~q2[q2_strings].apply(lbr.__is_nutrient__)]\n",
    "    \n",
    "#     if not len(uq2[~uq2[q2_strings].apply(lbr.__is_nutrient__)]) == 0:\n",
    "#         uq2 = uq2[~uq2[q2_strings].apply(lbr.__is_nutrient__)]\n",
    "    \n",
    "    q1_ids = list(set( q1[q1[q1_identifier].notnull()][q1_identifier].tolist() + uq1[uq1[q1_identifier].notnull()][q1_identifier].tolist() ))\n",
    "    q2_ids = list(set( q2[q2[q2_identifier].notnull()][q2_identifier].tolist() + uq2[uq2[q2_identifier].notnull()][q2_identifier].tolist() ))\n",
    "    \n",
    "#     display(fm_q[fm_q[q1_val] > 0].merge(q2[q2[q2_val] > 0], how='inner', on=q1_identifier).drop_duplicates([q1_strings, q1_identifier]))\n",
    "    q2_quant_ids = list(set(q2[(q2[q2_val] > 0) & (q2[q2_identifier].notnull())][q2_identifier].tolist()))\n",
    "    q2_zero_ids = list( set(q2[(q2[q2_val] == 0) & (q2[q2_identifier].notnull())][q2_identifier].tolist()) - set(q2_quant_ids) )\n",
    "    \n",
    "    uq2 = uq2[~uq2[q2_identifier].isin(set(q2[q2[q2_val] > 0][q2_identifier].tolist()))]\n",
    "    \n",
    "    q2_zero_ids = list( set(q2_zero_ids) - set(uq2[q2_identifier].tolist()) )\n",
    "    \n",
    "    q1_nonzero = q1[q1[q1_val] > 0]\n",
    "    q1_zero = q1[q1[q1_val] == 0]\n",
    "    \n",
    "    table = pd.DataFrame({\n",
    "        '' : ['quant', 'unquant', 'zeros', 'notin_q2'],\n",
    "        'quant' : [\n",
    "            len( q1_nonzero.merge(pd.DataFrame({q1_identifier : q2_quant_ids}), how='inner', on=q1_identifier).dropna(subset=[q1_identifier], axis=0).drop_duplicates(q1_identifier) ),\n",
    "            len( q1_nonzero.merge(uq2, how='inner', on=q1_identifier).dropna(subset=[q1_identifier], axis=0).drop_duplicates(q1_identifier) ),\n",
    "            len( q1_nonzero.merge(pd.DataFrame({q1_identifier : q2_zero_ids}), how='inner', on=q1_identifier).dropna(subset=[q1_identifier], axis=0).drop_duplicates(q1_identifier) ),\n",
    "            len( q1_nonzero[~q1_nonzero[q1_identifier].isin(q2_ids)].drop_duplicates([q1_strings, q1_identifier]) )\n",
    "        ],\n",
    "        'unquant' : [\n",
    "            len( uq1.merge(pd.DataFrame({q1_identifier : q2_quant_ids}), how='inner', on=q1_identifier).dropna(subset=[q1_identifier], axis=0).drop_duplicates(q1_identifier) ),\n",
    "            len( uq1.merge(uq2, how='inner', on=q1_identifier).dropna(subset=[q1_identifier], axis=0).drop_duplicates(q1_identifier) ),\n",
    "            len( uq1.merge(pd.DataFrame({q1_identifier : q2_zero_ids}), how='inner', on=q1_identifier).dropna(subset=[q1_identifier], axis=0).drop_duplicates(q1_identifier) ),\n",
    "            len( uq1[~uq1[q1_identifier].isin(q2_ids)] )\n",
    "        ],\n",
    "         'zeros' : [\n",
    "            len( q1_zero.merge(pd.DataFrame({q1_identifier : q2_ids}), how='inner', on=q1_identifier).dropna(subset=[q1_identifier], axis=0).drop_duplicates(q1_identifier) ),\n",
    "            len( q1_zero.merge(uq2, how='inner', on=q1_identifier).dropna(axis=0).drop_duplicates(q1_identifier) ),\n",
    "            len( q1_zero.merge(pd.DataFrame({q1_identifier : q2_zero_ids}), how='inner', on=q1_identifier).dropna(subset=[q1_identifier], axis=0).drop_duplicates(q1_identifier) ),\n",
    "            len( q1_zero[~q1_zero[q1_identifier].isin(q2_ids)].drop_duplicates([q1_strings, q1_identifier]) )\n",
    "        ],\n",
    "        'notin_q1' : [\n",
    "            len( q2[(q2[q1_identifier].isin(q2_quant_ids)) & (~q2[q1_identifier].isin(q1_ids))].dropna(subset=[q1_identifier], axis=0).drop_duplicates(q1_identifier) )\n",
    "            + len( q2[(q2[q2_val] > 0) & (q2[q1_identifier].isnull())][q2_strings].drop_duplicates() ),\n",
    "            len( uq2[~uq2[q1_identifier].isin(q1_ids)].dropna(subset=[q1_identifier], axis=0)[q1_identifier].drop_duplicates() )\n",
    "            + len( uq2[(~uq2[q1_identifier].isin(q1_ids)) & (uq2[q1_identifier].isnull())][q2_strings].drop_duplicates() ),\n",
    "            len( q2[(q2[q1_identifier].isin(q2_zero_ids)) & (~q2[q1_identifier].isin(q1_ids))].dropna(subset=[q1_identifier], axis=0).drop_duplicates(q1_identifier) )\n",
    "            + len( q2[(q2[q2_val] == 0) & (q2[q1_identifier].isnull())][q2_strings].drop_duplicates() ),\n",
    "            0\n",
    "        ]\n",
    "    })\n",
    "    \n",
    "    table['total'] = table.sum(axis=1)\n",
    "    table = table.append(table.sum(axis=0), ignore_index = True)\n",
    "    table.at[4, ''] = 'total'\n",
    "    \n",
    "    display(table)\n",
    "\n",
    "\n",
    "def grouped_relational_table(fm_q, fm_unq, fdb_q, fdb_unq, usda):\n",
    "    comp_df = pd.concat([\n",
    "        fdb_q[['name', 'chem_id', 'standard_content', 'chem_id_f']],\n",
    "        usda[['nut_desc', 'chem_id', 'Nutr_Val', 'chem_id_f']].rename(columns={'nut_desc' : 'name', 'Nutr_Val' : 'standard_content'})\n",
    "    ], ignore_index=True)\n",
    "    \n",
    "    make_table(fm_q, fm_unq, comp_df, fdb_unq, 'chem_id', 'chem_id', 'chemical', 'chem_id_f', 'average_mean', 'standard_content')"
   ]
  },
  {
   "cell_type": "code",
   "execution_count": 23,
   "metadata": {},
   "outputs": [
    {
     "data": {
      "text/html": [
       "<div>\n",
       "<style scoped>\n",
       "    .dataframe tbody tr th:only-of-type {\n",
       "        vertical-align: middle;\n",
       "    }\n",
       "\n",
       "    .dataframe tbody tr th {\n",
       "        vertical-align: top;\n",
       "    }\n",
       "\n",
       "    .dataframe thead th {\n",
       "        text-align: right;\n",
       "    }\n",
       "</style>\n",
       "<table border=\"1\" class=\"dataframe\">\n",
       "  <thead>\n",
       "    <tr style=\"text-align: right;\">\n",
       "      <th></th>\n",
       "      <th></th>\n",
       "      <th>quant</th>\n",
       "      <th>unquant</th>\n",
       "      <th>zeros</th>\n",
       "      <th>notin_q1</th>\n",
       "      <th>total</th>\n",
       "    </tr>\n",
       "  </thead>\n",
       "  <tbody>\n",
       "    <tr>\n",
       "      <td>0</td>\n",
       "      <td>quant</td>\n",
       "      <td>68</td>\n",
       "      <td>4</td>\n",
       "      <td>0</td>\n",
       "      <td>105</td>\n",
       "      <td>177</td>\n",
       "    </tr>\n",
       "    <tr>\n",
       "      <td>1</td>\n",
       "      <td>unquant</td>\n",
       "      <td>35</td>\n",
       "      <td>6</td>\n",
       "      <td>0</td>\n",
       "      <td>1767</td>\n",
       "      <td>1808</td>\n",
       "    </tr>\n",
       "    <tr>\n",
       "      <td>2</td>\n",
       "      <td>zeros</td>\n",
       "      <td>2</td>\n",
       "      <td>1</td>\n",
       "      <td>0</td>\n",
       "      <td>48</td>\n",
       "      <td>51</td>\n",
       "    </tr>\n",
       "    <tr>\n",
       "      <td>3</td>\n",
       "      <td>notin_q2</td>\n",
       "      <td>96</td>\n",
       "      <td>32</td>\n",
       "      <td>3</td>\n",
       "      <td>0</td>\n",
       "      <td>131</td>\n",
       "    </tr>\n",
       "    <tr>\n",
       "      <td>4</td>\n",
       "      <td>total</td>\n",
       "      <td>201</td>\n",
       "      <td>43</td>\n",
       "      <td>3</td>\n",
       "      <td>1920</td>\n",
       "      <td>2167</td>\n",
       "    </tr>\n",
       "  </tbody>\n",
       "</table>\n",
       "</div>"
      ],
      "text/plain": [
       "             quant  unquant  zeros  notin_q1  total\n",
       "0     quant     68        4      0       105    177\n",
       "1   unquant     35        6      0      1767   1808\n",
       "2     zeros      2        1      0        48     51\n",
       "3  notin_q2     96       32      3         0    131\n",
       "4     total    201       43      3      1920   2167"
      ]
     },
     "metadata": {},
     "output_type": "display_data"
    }
   ],
   "source": [
    "grouped_relational_table(quant_food_mine, unquant_food_mine, quant_foodb_food, unquant_foodb_food, usda)"
   ]
  },
  {
   "cell_type": "code",
   "execution_count": 128,
   "metadata": {},
   "outputs": [],
   "source": [
    "unique_chems = get_unique_df(quant_food_mine, 'chem_id', quant_foodb_chem_ids, unquant_foodb_chem_ids)\n",
    "\n",
    "unique_chems.to_pickle(f'misc_save/{food}_unique_fm.pkl')"
   ]
  },
  {
   "cell_type": "code",
   "execution_count": 59,
   "metadata": {},
   "outputs": [],
   "source": [
    "quant_food_mine.to_pickle(f'misc_save/{food}_quant_fm.pkl')"
   ]
  },
  {
   "cell_type": "markdown",
   "metadata": {},
   "source": [
    "# Visualization Analysis"
   ]
  },
  {
   "cell_type": "markdown",
   "metadata": {},
   "source": [
    "### Figure 1"
   ]
  },
  {
   "cell_type": "code",
   "execution_count": 121,
   "metadata": {},
   "outputs": [
    {
     "data": {
      "image/png": "[encoded data removed]",
      "text/plain": [
       "<Figure size 432x288 with 1 Axes>"
      ]
     },
     "metadata": {
      "needs_background": "light"
     },
     "output_type": "display_data"
    }
   ],
   "source": [
    "_, ax = plt.subplots(figsize=(6, 4))\n",
    "\n",
    "# Distrubtion of chemical measurements per paper (number of records)\n",
    "quant_viz = pd.DataFrame(food_data_q.groupby('PMID').count())\n",
    "unquant_viz = pd.DataFrame(food_data_dnq.groupby('PMID').count())\n",
    "\n",
    "yupperbound = 50\n",
    "\n",
    "g1 = sns.distplot(quant_viz.chemical, kde=False, label='Quantified')\n",
    "g2 = sns.distplot(unquant_viz.chemical, kde=False, label='Unquantified')\n",
    "g1.set_ylim(top = yupperbound)\n",
    "g1.set_xlabel('Number of Records', fontsize=14)\n",
    "g1.set_ylabel('Number of Papers', fontsize=14)\n",
    "\n",
    "g1.set_title(f'Record Distribution for {food.capitalize()}', fontsize=16)\n",
    "\n",
    "g1.legend()\n",
    "clean_plot()"
   ]
  },
  {
   "cell_type": "code",
   "execution_count": 122,
   "metadata": {},
   "outputs": [
    {
     "data": {
      "image/png": "[encoded data removed]",
      "text/plain": [
       "<Figure size 432x288 with 1 Axes>"
      ]
     },
     "metadata": {
      "needs_background": "light"
     },
     "output_type": "display_data"
    }
   ],
   "source": [
    "# Distrubtion of chemical measurements per paper (number of records)\n",
    "quant_viz = pd.DataFrame(food_data_q[['PMID', 'chemical']].drop_duplicates().groupby('PMID').count())\n",
    "unquant_viz = pd.DataFrame(food_data_dnq[['PMID', 'chemical']].drop_duplicates().groupby('PMID').count())\n",
    "\n",
    "g1 = sns.distplot(quant_viz.chemical, kde=False, label='Quantified')\n",
    "g2 = sns.distplot(unquant_viz.chemical, kde=False, label='Unquantified')\n",
    "g1.set_ylim(top = yupperbound)\n",
    "g1.set_xlabel('Number of Unique Compounds', fontsize=14)\n",
    "g1.set_ylabel('Number of Papers', fontsize=14)\n",
    "\n",
    "g1.set_title(f'Unique Compound Distribution for {food.capitalize()}', fontsize=16)\n",
    "\n",
    "g1.legend()\n",
    "clean_plot()"
   ]
  },
  {
   "cell_type": "markdown",
   "metadata": {},
   "source": [
    "### Figure 2"
   ]
  },
  {
   "cell_type": "code",
   "execution_count": 123,
   "metadata": {
    "scrolled": false
   },
   "outputs": [],
   "source": [
    "# Load data for chemical classes\n",
    "if food == 'garlic':\n",
    "    classdata = pd.read_csv(\"data/Garlic_Quant_Cleaned.csv\", encoding='latin1')\n",
    "if food == 'cocoa':\n",
    "    classdata = pd.read_csv(\"data/cocoa_quant_cleaned.csv\", encoding='latin1')\n",
    "\n",
    "classdata = classdata[['name','InChIKey', 'SuperClass', 'Class', 'SubClass']]\n",
    "classdata.columns = ['chemical', 'InChiKey', 'SuperClass', 'Class', 'SubClass']"
   ]
  },
  {
   "cell_type": "code",
   "execution_count": 124,
   "metadata": {},
   "outputs": [
    {
     "data": {
      "image/png": "[encoded data removed]",
      "text/plain": [
       "<Figure size 576x576 with 1 Axes>"
      ]
     },
     "metadata": {
      "needs_background": "light"
     },
     "output_type": "display_data"
    }
   ],
   "source": [
    "sns.set_color_codes(palette='muted')\n",
    "\n",
    "fig, _ = plt.subplots(figsize=(8,8))\n",
    "terms = classdata.Class.tolist()\n",
    "top_n = 100 # Ensurces all classes are present\n",
    "\n",
    "counter = Counter(terms)\n",
    "\n",
    "# Get counts of classes\n",
    "counter = dict(counter.most_common(top_n))\n",
    "\n",
    "# Extract ordered keys and corresponding values, then plot\n",
    "terms = [str(k) for k in counter.keys()]\n",
    "term_counts = list(counter.values())\n",
    "ax = sns.barplot(term_counts, terms, color='b')\n",
    "\n",
    "ax.set_title(f'Quantified Compound Class ({food.capitalize()})', fontsize=16)\n",
    "\n",
    "ax.set_xlabel('Number of Compounds', fontsize=14)\n",
    "ax.set_xlim([0, 80])\n",
    "clean_plot()"
   ]
  },
  {
   "cell_type": "markdown",
   "metadata": {},
   "source": [
    "### Figure 3"
   ]
  },
  {
   "cell_type": "code",
   "execution_count": 129,
   "metadata": {},
   "outputs": [],
   "source": [
    "# Colors at https://chrisalbon.com/python/data_visualization/seaborn_color_palettes/\n",
    "def partition_df(df, content_col, id_col, str_col):\n",
    "    quant = df[df[content_col] > 0]\n",
    "    unquant = df[(df[content_col].isnull()) & (~df[id_col].isin(set(quant[id_col].dropna().tolist())))\n",
    "                & (~df[str_col].isin(set(quant[str_col].dropna().tolist())))]\n",
    "    zeros = df[(df[content_col] == 0) & (~df[id_col].isin(set(quant[id_col].dropna().tolist() + unquant[id_col].dropna().tolist())))\n",
    "              & (~df[id_col].isin(set(quant[str_col].dropna().tolist() + unquant[str_col].dropna().tolist())))]\n",
    "    \n",
    "    return quant, unquant, zeros\n",
    "\n",
    "fdb_q, fdb_uq, fdb_z = partition_df(foodb_food,'standard_content', 'chem_id' , 'chem_id_f')\n",
    "\n",
    "fdb_quant_num_nz = len(fdb_q[fdb_q.chem_id.notnull()].drop_duplicates('chem_id')) + len(fdb_q[fdb_q.chem_id.isnull()].drop_duplicates('chem_id_f'))\n",
    "fdb_quant_num_z = len(fdb_z[fdb_z.chem_id.notnull()].drop_duplicates('chem_id')) + len(fdb_z[fdb_z.chem_id.isnull()].drop_duplicates('chem_id_f'))\n",
    "fdb_unquant_num = len(fdb_uq[fdb_uq.chem_id.notnull()].drop_duplicates('chem_id')) + len(fdb_uq[fdb_uq.chem_id.isnull()].drop_duplicates('chem_id_f'))\n",
    "\n",
    "fm_q, fm_uq, fm_z = partition_df(food_mine,'average_mean', 'chem_id', 'chemical')\n",
    "\n",
    "fm_q_nz = len(fm_q[fm_q.chem_id.notnull()].drop_duplicates('chem_id')) + len(fm_q[fm_q.chem_id.isnull()].drop_duplicates('chemical'))\n",
    "fm_q_z = len(fm_z[fm_z.chem_id.notnull()].drop_duplicates('chem_id')) + len(fm_z[fm_z.chem_id.isnull()].drop_duplicates('chemical'))\n",
    "fm_nuq = len(fm_q[fm_q.chem_id.notnull()].drop_duplicates('chem_id')) + len(fm_q[fm_q.chem_id.isnull()].drop_duplicates('chemical'))\n",
    "\n",
    "\n",
    "u_q, u_uq, u_z = partition_df(unique_chems,'average_mean', 'chem_id', 'chemical')\n",
    "\n",
    "fm_u_nz = len(u_q[u_q.chem_id.notnull()].drop_duplicates('chem_id')) + len(u_q[u_q.chem_id.isnull()].drop_duplicates('chemical'))\n",
    "fm_u_z = len(u_z[u_z.chem_id.notnull()].drop_duplicates('chem_id')) + len(u_z[u_z.chem_id.isnull()].drop_duplicates('chemical'))\n",
    "\n",
    "unquantcolor = sns.color_palette(\"Paired\", 10)[1]\n",
    "quantcolor = sns.color_palette(\"Paired\", 10)[0]\n",
    "uniquecolor = sns.color_palette(\"Paired\")[6]"
   ]
  },
  {
   "cell_type": "code",
   "execution_count": 131,
   "metadata": {},
   "outputs": [],
   "source": [
    "# Visualize final chems\n",
    "disp_nums = {'db' : ['USDA', 'Foodb', 'FoodMine', 'FoodMine, New Info'],\n",
    "             'Quantified' : [len(usda[usda.Nutr_Val != 0]), fdb_quant_num_nz, fm_q_nz, fm_u_nz],\n",
    "             'Zeros' : [len(usda[usda.Nutr_Val == 0]), fdb_quant_num_z, fm_q_z, fm_u_z],\n",
    "             'Unquantified' : [0, fdb_unquant_num, ntotal_uchems, 0]}\n",
    "\n",
    "disp_df = pd.DataFrame(disp_nums)\n",
    "\n",
    "disp_df['total'] = disp_df['Quantified'] + disp_df['Zeros'] + disp_df['Unquantified']"
   ]
  },
  {
   "cell_type": "code",
   "execution_count": 140,
   "metadata": {},
   "outputs": [
    {
     "data": {
      "image/png": "[encoded data removed]",
      "text/plain": [
       "<Figure size 720x432 with 2 Axes>"
      ]
     },
     "metadata": {
      "needs_background": "light"
     },
     "output_type": "display_data"
    }
   ],
   "source": [
    "f, (ax, ax2) = plt.subplots(2, 1, sharex=True, figsize=(10,6))\n",
    "\n",
    "# plot the same data on both axes\n",
    "index = np.arange(4)\n",
    "bar_width = .5\n",
    "\n",
    "ax.bar(index, disp_df['total'], bar_width, color = unquantcolor)\n",
    "\n",
    "rects1 = ax2.bar(index, disp_df['Quantified'], bar_width, color = quantcolor)\n",
    "rects2 = ax2.bar(index, disp_df['Unquantified'], bar_width, bottom = disp_df['Quantified'], color = unquantcolor)\n",
    "\n",
    "# zoom-in / limit the view to different portions of the data\n",
    "ax.set_ylim(1700, 2100)  # outliers only\n",
    "ax2.set_ylim(0, 650)  # most of the data\n",
    "\n",
    "# Set the ticks and ticklabels for all axes\n",
    "plt.setp(ax2, xticks=index, xticklabels=disp_df['db'].tolist())\n",
    "\n",
    "# hide the spines between ax and ax2\n",
    "ax.spines['bottom'].set_visible(False)\n",
    "ax2.spines['top'].set_visible(False)\n",
    "ax.tick_params(labeltop='off', bottom='off')  # don't put tick labels at the top\n",
    "ax2.tick_params(labeltop='off', bottom='off')\n",
    "\n",
    "ax.spines['right'].set_visible(False)\n",
    "ax.spines['top'].set_visible(False)\n",
    "\n",
    "ax2.spines['right'].set_visible(False)\n",
    "ax2.spines['top'].set_visible(False)\n",
    "\n",
    "\n",
    "d = .015  # how big to make the diagonal lines in axes coordinates\n",
    "# arguments to pass to plot, just so we don't keep repeating them\n",
    "kwargs = dict(transform=ax.transAxes, color='k', clip_on=False)\n",
    "ax.plot((-d, +d), (-d, +d), **kwargs)        # top-left diagonal\n",
    "ax.plot((1 - d, 1 + d), (-d, +d), **kwargs)  # top-right diagonal\n",
    "\n",
    "kwargs.update(transform=ax2.transAxes)  # switch to the bottom axes\n",
    "ax2.plot((-d, +d), (1 - d, 1 + d), **kwargs)  # bottom-left diagonal\n",
    "ax2.plot((1 - d, 1 + d), (1 - d, 1 + d), **kwargs)  # bottom-right diagonal\n",
    "\n",
    "f.text(0.01, 0.5, 'Number of Unique Compounds', va='center', rotation='vertical', fontsize=12)\n",
    "ax.set_title(f'Database Compound Comparison ({food.capitalize()})', fontsize=16)\n",
    "\n",
    "def autolabel(rects):\n",
    "    \"\"\"\n",
    "    Attach a text label above each bar displaying its height\n",
    "    \"\"\"\n",
    "    for rect in rects:\n",
    "        height = rect.get_height()\n",
    "        \n",
    "        ax.text(rect.get_x() + rect.get_width()/2., 1.05*height,\n",
    "                '%d' % int(height),\n",
    "                ha='center', va='bottom')\n",
    "\n",
    "ax2.get_children()[3].set_color(uniquecolor)\n",
    "\n",
    "patch1 = mpatches.Patch(color=quantcolor, label='Quantified')\n",
    "patch2 = mpatches.Patch(color=unquantcolor, label='Unquantified')\n",
    "patch3 = mpatches.Patch(color=uniquecolor, label='Novel to Pilot (Quant)')\n",
    "ax.legend(handles = [patch1, patch2, patch3], frameon = False, loc='upper left', bbox_to_anchor=(1, 1))\n",
    "\n",
    "plt.tight_layout()\n"
   ]
  },
  {
   "cell_type": "markdown",
   "metadata": {},
   "source": [
    "### Figure 4"
   ]
  },
  {
   "cell_type": "code",
   "execution_count": 134,
   "metadata": {},
   "outputs": [
    {
     "data": {
      "image/png": "[encoded data removed]",
      "text/plain": [
       "<Figure size 432x288 with 1 Axes>"
      ]
     },
     "metadata": {},
     "output_type": "display_data"
    }
   ],
   "source": [
    "# Calculates top n for number of papers a chemical occurs in\n",
    "expanded_term_list = []\n",
    "for idx, row in food_mine.iterrows():\n",
    "    expanded_term_list += [row['chem_id']] * int(row['num_papers'])\n",
    "\n",
    "# Note that this particular iteration doesn't account for id's that are NaN, but all top values seem to have id's anyways\n",
    "id_to_name = []\n",
    "for ID in expanded_term_list:\n",
    "    name = food_mine[food_mine['chem_id'] == ID].chemical.tolist()\n",
    "    \n",
    "    if isinstance(name, list):\n",
    "        if len(name) == 0:\n",
    "            continue\n",
    "        id_to_name.append(name[0])\n",
    "    else:\n",
    "        id_to_name.append(name)\n",
    "\n",
    "terms = id_to_name\n",
    "top_n = 10\n",
    "\n",
    "title = f\"Top 10 Most Frequent Compounds ({food.capitalize()})\"\n",
    "\n",
    "f_ids = set(foodb_food.chem_id.tolist())\n",
    "f_q_ids = set( foodb_food[foodb_food.standard_content > 0].chem_id.tolist())\n",
    "\n",
    "counter = Counter(terms)\n",
    "\n",
    "counter = dict(counter.most_common(top_n))\n",
    "\n",
    "terms = [str(k) for k in counter.keys()]\n",
    "term_counts = list(counter.values())\n",
    "\n",
    "sns.set_color_codes('muted')\n",
    "\n",
    "c1 = 'r'\n",
    "c2 = 'b'\n",
    "c3 = 'g'\n",
    "\n",
    "colors = []\n",
    "labels = []\n",
    "for v in terms:\n",
    "    temp_id = food_mine[food_mine.chemical==v].chem_id.tolist()[0]\n",
    "    \n",
    "    if temp_id in f_q_ids:\n",
    "        colors.append(c3) # quantified in foodb\n",
    "    elif temp_id in f_ids:\n",
    "        colors.append(c2) # not quantified in foodb\n",
    "    else:\n",
    "        colors.append(c1) # not in foodb\n",
    "\n",
    "# Horizontal bar graph\n",
    "\n",
    "with sns.axes_style('whitegrid'):\n",
    "\n",
    "    ax = sns.barplot(term_counts, terms, palette=colors)\n",
    "    #ax.invert_yaxis()  # labels read top-to-bottom\n",
    "    ax.set_xlabel('Number of Papers', fontsize=14)\n",
    "    ax.set_title(title, fontsize = 16)\n",
    "    ax.title.set_position([0, 1.05])\n",
    "\n",
    "    patch1 = mpatches.Patch(color=c1, label='not in foodb')\n",
    "    patch2 = mpatches.Patch(color=c2, label='not quantified in foodb')\n",
    "    patch3 = mpatches.Patch(color=c3, label='quantified in foodb')\n",
    "    ax.legend(handles = [patch1, patch2, patch3])\n",
    "\n",
    "    ax.spines['right'].set_visible(False)\n",
    "    ax.spines['top'].set_visible(False)\n",
    "    ax.yaxis.set_ticks_position('left')\n",
    "    ax.xaxis.set_ticks_position('bottom')\n",
    "    ax.set_xlim(right = 16)\n"
   ]
  },
  {
   "cell_type": "markdown",
   "metadata": {},
   "source": [
    "### Figure 5"
   ]
  },
  {
   "cell_type": "code",
   "execution_count": 135,
   "metadata": {},
   "outputs": [
    {
     "name": "stderr",
     "output_type": "stream",
     "text": [
      "C:\\software\\Anaconda3\\envs\\advanced\\lib\\site-packages\\pandas\\core\\indexing.py:376: SettingWithCopyWarning: \n",
      "A value is trying to be set on a copy of a slice from a DataFrame.\n",
      "Try using .loc[row_indexer,col_indexer] = value instead\n",
      "\n",
      "See the caveats in the documentation: http://pandas.pydata.org/pandas-docs/stable/user_guide/indexing.html#returning-a-view-versus-a-copy\n",
      "  self.obj[key] = _infer_fill_value(value)\n",
      "C:\\software\\Anaconda3\\envs\\advanced\\lib\\site-packages\\pandas\\core\\indexing.py:494: SettingWithCopyWarning: \n",
      "A value is trying to be set on a copy of a slice from a DataFrame.\n",
      "Try using .loc[row_indexer,col_indexer] = value instead\n",
      "\n",
      "See the caveats in the documentation: http://pandas.pydata.org/pandas-docs/stable/user_guide/indexing.html#returning-a-view-versus-a-copy\n",
      "  self.obj[item] = s\n",
      "C:\\software\\Anaconda3\\envs\\advanced\\lib\\site-packages\\ipykernel_launcher.py:9: SettingWithCopyWarning: \n",
      "A value is trying to be set on a copy of a slice from a DataFrame.\n",
      "Try using .loc[row_indexer,col_indexer] = value instead\n",
      "\n",
      "See the caveats in the documentation: http://pandas.pydata.org/pandas-docs/stable/user_guide/indexing.html#returning-a-view-versus-a-copy\n",
      "  if __name__ == '__main__':\n"
     ]
    }
   ],
   "source": [
    "usda_mod = usda[(usda.unit != 'IU') & (usda.chem_id.notnull())]\n",
    "\n",
    "for idx, row in usda_mod.iterrows():\n",
    "    try:\n",
    "        usda_mod.at[idx, 'usda_amount'] = collected_data_handling.__unit_handler__(row['Nutr_Val'], row['unit'] + '/100g', 'mg/100g')\n",
    "    except:\n",
    "        pass\n",
    "\n",
    "usda_mod['units'] = 'mg/100g'\n",
    "\n",
    "usda_mod.to_pickle(f'misc_save/{food}_usda_conv.pkl')"
   ]
  },
  {
   "cell_type": "code",
   "execution_count": 136,
   "metadata": {},
   "outputs": [
    {
     "name": "stdout",
     "output_type": "stream",
     "text": [
      "Number of foodmine measurments of 0: 0\n",
      "Number of usda measurments of 0: 5\n"
     ]
    }
   ],
   "source": [
    "val_comparison = quant_food_mine.merge(usda_mod[['chem_id','usda_amount']], how = 'inner', on = 'chem_id')\n",
    "print('Number of foodmine measurments of 0:', len(val_comparison[val_comparison.average_mean == 0]))\n",
    "print('Number of usda measurments of 0:', len(val_comparison[val_comparison.usda_amount == 0]))\n",
    "val_comparison = val_comparison[val_comparison.num_terms_quantified != 0]\n",
    "val_comparison = val_comparison[(val_comparison.average_mean != 0) & (val_comparison.usda_amount != 0)]\n",
    "val_comparison = val_comparison.sort_values(by=['average_mean'], ascending=False).reset_index(drop=True)"
   ]
  },
  {
   "cell_type": "code",
   "execution_count": 141,
   "metadata": {},
   "outputs": [
    {
     "data": {
      "image/png": "[encoded data removed]",
      "text/plain": [
       "<Figure size 576x432 with 2 Axes>"
      ]
     },
     "metadata": {},
     "output_type": "display_data"
    }
   ],
   "source": [
    "import math\n",
    "\n",
    "color_values = [(row['average_mean'])/(row['usda_amount']) for _, row in val_comparison.iterrows()]\n",
    "\n",
    "input1 = val_comparison['usda_amount'].tolist()\n",
    "input2 = val_comparison['average_mean'].tolist()\n",
    "\n",
    "x_min = 10**-3\n",
    "x_max = 10**5\n",
    "y_min = 10**-3\n",
    "y_max = 10**5\n",
    "\n",
    "if x_min == 0 or y_min == 0:\n",
    "    x_min = max(x_min,y_min)\n",
    "    y_min = max(x_min,y_min)\n",
    "\n",
    "with sns.axes_style('white'):\n",
    "    fig, ax = plt.subplots(figsize=(8, 6))\n",
    "\n",
    "    ax.plot([min(input1), max(input2)],[min(input1), max(input2)])\n",
    "\n",
    "    f = ax.scatter(input1, input2, c=color_values,\n",
    "               cmap='viridis', marker='o', alpha=.7)\n",
    "\n",
    "    ax.set_xscale('log')\n",
    "    ax.set_yscale('log')\n",
    "    ax.set_xlim([x_min * .9, x_max * 1.7])\n",
    "    ax.set_ylim([y_min * .9, y_max * 1.7])\n",
    "\n",
    "    ax.set_xlabel(r\"USDA Value $mg/100g$\", fontsize=14)\n",
    "    ax.set_ylabel(r\"FoodMine Value $mg/100g$\", fontsize=14)\n",
    "    \n",
    "    ax.set_title(f'{food.capitalize()} FoodMine Vs. USDA Composition', fontsize=16)\n",
    "\n",
    "    cbar = plt.colorbar(f)\n",
    "    cbar.set_label('Ratio', rotation=270, labelpad=+10)\n",
    "\n",
    "    wnames = False\n",
    "    if wnames:\n",
    "        for i, txt in enumerate(val_comparison.chemical.tolist()):\n",
    "            plt.annotate(txt, (input1[i] * 1.1, input2[i]))\n",
    "    \n",
    "clean_plot()\n"
   ]
  }
 ],
 "metadata": {
  "kernelspec": {
   "display_name": "Python 3",
   "language": "python",
   "name": "python3"
  },
  "language_info": {
   "codemirror_mode": {
    "name": "ipython",
    "version": 3
   },
   "file_extension": ".py",
   "mimetype": "text/x-python",
   "name": "python",
   "nbconvert_exporter": "python",
   "pygments_lexer": "ipython3",
   "version": "3.7.4"
  }
 },
 "nbformat": 4,
 "nbformat_minor": 2
}
